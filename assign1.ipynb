{
 "cells": [
  {
   "cell_type": "markdown",
   "metadata": {},
   "source": [
    " Q.1\n",
    "\n",
    " 1. Find the average of ages.\n",
    " 2. Count total number of words starts with 't' / 'T'\n",
    " 3. Count total punctuation symbols.\n",
    " 4. Print the words in capital letter which ends with 'd'\n",
    " 5. Merge all the words and print (no punctuations)"
   ]
  },
  {
   "cell_type": "code",
   "execution_count": 70,
   "metadata": {},
   "outputs": [],
   "source": [
    "sent = 'They told that their ages are 23 , 25 and 29 respectively.'\n"
   ]
  },
  {
   "cell_type": "code",
   "execution_count": 71,
   "metadata": {},
   "outputs": [],
   "source": [
    "import nltk\n",
    "import numpy as np\n",
    "from nltk import word_tokenize , sent_tokenize"
   ]
  },
  {
   "cell_type": "code",
   "execution_count": 72,
   "metadata": {},
   "outputs": [
    {
     "name": "stdout",
     "output_type": "stream",
     "text": [
      "The average of the numbers are : 25.666666666666668\n"
     ]
    }
   ],
   "source": [
    "# 1. Find the average of ages.\n",
    "\n",
    "avg_age = [int(word) for word in sent.split() if word.isdigit()]\n",
    "print(\"The average of the numbers are :\",np.mean(avg_age))"
   ]
  },
  {
   "cell_type": "code",
   "execution_count": 73,
   "metadata": {},
   "outputs": [
    {
     "name": "stdout",
     "output_type": "stream",
     "text": [
      "Total number of words starts with t/T in this line : 4\n"
     ]
    }
   ],
   "source": [
    "#2. Count total number of words starts with 't' / 'T'\n",
    "\n",
    "count =[word for word in word_tokenize(sent) if word.startswith(\"t\") or word.startswith(\"T\")]\n",
    "print(\"Total number of words starts with t/T in this line :\",len(count))"
   ]
  },
  {
   "cell_type": "code",
   "execution_count": 74,
   "metadata": {},
   "outputs": [
    {
     "name": "stdout",
     "output_type": "stream",
     "text": [
      "Total number of punctuation symbols are: 2\n"
     ]
    }
   ],
   "source": [
    "# 3. Count total punctuation symbols.\n",
    "\n",
    "count = [word for word in word_tokenize(sent) if not word.isalnum()]\n",
    "print(\"Total number of punctuation symbols are:\",len(count))\n",
    "\n"
   ]
  },
  {
   "cell_type": "code",
   "execution_count": 75,
   "metadata": {},
   "outputs": [
    {
     "name": "stdout",
     "output_type": "stream",
     "text": [
      "The words in capital letter which ends with d is: ['TOLD', 'AND']\n"
     ]
    }
   ],
   "source": [
    "#  4. Print the words in capital letter which ends with 'd'\n",
    "\n",
    "words = [word.upper() for word in word_tokenize(sent) if word.endswith('d')]\n",
    "print(\"The words in capital letter which ends with d is:\",words)\n"
   ]
  },
  {
   "cell_type": "code",
   "execution_count": 76,
   "metadata": {},
   "outputs": [
    {
     "data": {
      "text/plain": [
       "'They told that their ages are 23 25 and 29 respectively'"
      ]
     },
     "execution_count": 76,
     "metadata": {},
     "output_type": "execute_result"
    }
   ],
   "source": [
    "# 5. Merge all the words and print (no punctuations)\n",
    "\n",
    "words = [word for word in word_tokenize(sent) if word.isalnum()]\n",
    "(' ').join(words)\n"
   ]
  },
  {
   "cell_type": "markdown",
   "metadata": {},
   "source": [
    "Q.2\n",
    "\n",
    "Open the wikipedia page of Indian flag and perform following analysis\n",
    "\n",
    "1. Count total number of Words\n",
    "2. Count percentage of punctuation marks\n",
    "3. Print total number of lines\n",
    "4. How many words are in title case?\n",
    "5. Remove the numbers and print the text"
   ]
  },
  {
   "cell_type": "code",
   "execution_count": 77,
   "metadata": {},
   "outputs": [],
   "source": [
    "text = \"\"\"The national flag of India, colloquially called Tiraṅgā (the tricolour) , is a horizontal rectangular tricolour flag ,\n",
    "         the colours being of India saffron , white and India green ; with the Ashoka Chakra , a 24-spoke wheel , in navy blue at its centre .\n",
    "         It was adopted in its present form during a meeting of the Constituent Assembly held on 22 July 1947, and it became the official\n",
    "         flag of the Union of India on 15 August 1947 . The flag was subsequently retained as that of the Republic of India. In India , the \n",
    "         term \"tricolour\" almost always refers to the Indian national flag.\"\"\""
   ]
  },
  {
   "cell_type": "code",
   "execution_count": 78,
   "metadata": {},
   "outputs": [
    {
     "name": "stdout",
     "output_type": "stream",
     "text": [
      "The total numbers of words are : 115\n"
     ]
    }
   ],
   "source": [
    "# 1. Count total number of Words\n",
    "\n",
    "words = word_tokenize(text)\n",
    "print(\"The total numbers of words are :\",len(words))"
   ]
  },
  {
   "cell_type": "code",
   "execution_count": 79,
   "metadata": {},
   "outputs": [
    {
     "name": "stdout",
     "output_type": "stream",
     "text": [
      "Punctuation ratio is : 0.1565217391304348\n"
     ]
    }
   ],
   "source": [
    "# 2. Count percentage of punctuation marks\n",
    "\n",
    "words = word_tokenize(text)\n",
    "punc = len([word for word in word_tokenize(text) if not word.isalnum()])\n",
    "print(\"Punctuation ratio is :\" ,punc/len(words))\n"
   ]
  },
  {
   "cell_type": "code",
   "execution_count": 80,
   "metadata": {},
   "outputs": [
    {
     "name": "stdout",
     "output_type": "stream",
     "text": [
      "The numbers of lines are: 4\n"
     ]
    }
   ],
   "source": [
    "# 3. Print total number of lines\n",
    "\n",
    "count = len([word for word in word_tokenize(text) if word.endswith(\".\")])\n",
    "print(\"The numbers of lines are:\",count)"
   ]
  },
  {
   "cell_type": "code",
   "execution_count": 81,
   "metadata": {},
   "outputs": [
    {
     "name": "stdout",
     "output_type": "stream",
     "text": [
      "The numbers of words that are in title case are: 41\n"
     ]
    }
   ],
   "source": [
    "# 4. How many words are in title case?\n",
    "\n",
    "count = len([word for word in word_tokenize(text) if word == word.title()])\n",
    "print(\"The numbers of words that are in title case are:\",count)"
   ]
  },
  {
   "cell_type": "code",
   "execution_count": 82,
   "metadata": {},
   "outputs": [
    {
     "name": "stdout",
     "output_type": "stream",
     "text": [
      "The national flag of India colloquially called Tiraṅgā the tricolour is a horizontal rectangular tricolour flag the colours being of India saffron white and India green with the Ashoka Chakra a wheel in navy blue at its centre It was adopted in its present form during a meeting of the Constituent Assembly held on 22 July 1947 and it became the official flag of the Union of India on 15 August 1947 The flag was subsequently retained as that of the Republic of India In India the term tricolour almost always refers to the Indian national flag\n"
     ]
    }
   ],
   "source": [
    "# 5. Remove the numbers and print the text\n",
    "\n",
    "words =[word for word in word_tokenize(text) if word.isalnum()]\n",
    "print((\" \").join(words))"
   ]
  },
  {
   "cell_type": "code",
   "execution_count": null,
   "metadata": {},
   "outputs": [],
   "source": []
  }
 ],
 "metadata": {
  "kernelspec": {
   "display_name": "nlp",
   "language": "python",
   "name": "python3"
  },
  "language_info": {
   "codemirror_mode": {
    "name": "ipython",
    "version": 3
   },
   "file_extension": ".py",
   "mimetype": "text/x-python",
   "name": "python",
   "nbconvert_exporter": "python",
   "pygments_lexer": "ipython3",
   "version": "3.12.3"
  }
 },
 "nbformat": 4,
 "nbformat_minor": 2
}
